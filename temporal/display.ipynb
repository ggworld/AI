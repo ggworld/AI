{
 "cells": [
  {
   "cell_type": "code",
   "execution_count": 5,
   "id": "72172b79-38d8-4c38-8f77-e7a89d8aefa7",
   "metadata": {},
   "outputs": [],
   "source": [
    "import pandas as pd\n",
    "PROJECT_STAGES = ['stage1_raw','stage2_filtered','stage3_with_llma']"
   ]
  },
  {
   "cell_type": "code",
   "execution_count": 2,
   "id": "ad68d65d-4a4c-479b-a90a-04a380848875",
   "metadata": {},
   "outputs": [
    {
     "name": "stdin",
     "output_type": "stream",
     "text": [
      "enter projet name add-proc-data\n"
     ]
    }
   ],
   "source": [
    "project = input(\"enter projet name\")"
   ]
  },
  {
   "cell_type": "code",
   "execution_count": null,
   "id": "7ebc25d0-50a1-4b66-8268-3110c09b93b8",
   "metadata": {},
   "outputs": [],
   "source": [
    "df1 = pd.read_parquet(f\"{project}/{PROJECT_STAGES[0]}.parquet\")\n",
    "df1"
   ]
  },
  {
   "cell_type": "code",
   "execution_count": null,
   "id": "0b2e8ec9-94cb-482a-8c5e-774406f0dfac",
   "metadata": {},
   "outputs": [],
   "source": [
    "df2 = pd.read_parquet(f\"{project}/{PROJECT_STAGES[1]}.parquet\")\n",
    "df2"
   ]
  },
  {
   "cell_type": "code",
   "execution_count": null,
   "id": "744a5af7-d6b1-4b15-a26e-f5e42001dc40",
   "metadata": {},
   "outputs": [],
   "source": [
    "df3 = pd.read_parquet(f\"{project}/{PROJECT_STAGES[2]}.parquet\")\n",
    "df3"
   ]
  },
  {
   "cell_type": "code",
   "execution_count": null,
   "id": "ecad356c-be88-4ecc-b248-60837d18fb45",
   "metadata": {},
   "outputs": [],
   "source": []
  }
 ],
 "metadata": {
  "kernelspec": {
   "display_name": "Python 3 (ipykernel)",
   "language": "python",
   "name": "python3"
  },
  "language_info": {
   "codemirror_mode": {
    "name": "ipython",
    "version": 3
   },
   "file_extension": ".py",
   "mimetype": "text/x-python",
   "name": "python",
   "nbconvert_exporter": "python",
   "pygments_lexer": "ipython3",
   "version": "3.10.15"
  }
 },
 "nbformat": 4,
 "nbformat_minor": 5
}
